{
 "cells": [
  {
   "cell_type": "code",
   "execution_count": 2,
   "metadata": {},
   "outputs": [
    {
     "name": "stdout",
     "output_type": "stream",
     "text": [
      "Hello\n"
     ]
    }
   ],
   "source": [
    "print(\"Hello\")"
   ]
  },
  {
   "cell_type": "code",
   "execution_count": 3,
   "metadata": {},
   "outputs": [
    {
     "name": "stdout",
     "output_type": "stream",
     "text": [
      "Taco time\n"
     ]
    }
   ],
   "source": [
    "a = \"Taco \"\n",
    "b = \"time\"\n",
    "c = a + b\n",
    "print(c)"
   ]
  },
  {
   "cell_type": "code",
   "execution_count": 6,
   "metadata": {},
   "outputs": [
    {
     "name": "stdout",
     "output_type": "stream",
     "text": [
      "No need for winter jacket!\n"
     ]
    }
   ],
   "source": [
    "season = \"Winter\"\n",
    "temperature = 10\n",
    "if season == \"Winter\":\n",
    "    if temperature > 7:\n",
    "        print(\"No need for winter jacket!\")\n",
    "    else:\n",
    "        print(\"It might be cold! Wear a proper jacket!\")\n",
    "elif season == \"Summer\":\n",
    "    if temperature > 20:\n",
    "        print(\"It's warm! Time to wear shorts!\")\n",
    "    else:\n",
    "        print(\"Well this is Finland, better wear long trousers!\")\n",
    "else:\n",
    "    print(\"Check the weather forecast!\")"
   ]
  },
  {
   "cell_type": "code",
   "execution_count": null,
   "metadata": {},
   "outputs": [],
   "source": []
  }
 ],
 "metadata": {
  "kernelspec": {
   "display_name": "Python 3 (ipykernel)",
   "language": "python",
   "name": "python3"
  },
  "language_info": {
   "codemirror_mode": {
    "name": "ipython",
    "version": 3
   },
   "file_extension": ".py",
   "mimetype": "text/x-python",
   "name": "python",
   "nbconvert_exporter": "python",
   "pygments_lexer": "ipython3",
   "version": "3.7.6"
  }
 },
 "nbformat": 4,
 "nbformat_minor": 4
}
